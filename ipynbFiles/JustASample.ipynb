{
 "cells": [
  {
   "cell_type": "markdown",
   "metadata": {},
   "source": [
    "# This here is a sample\n"
   ]
  },
  {
   "cell_type": "code",
   "execution_count": 2,
   "metadata": {
    "collapsed": false
   },
   "outputs": [
    {
     "name": "stdout",
     "output_type": "stream",
     "text": [
      "smple sample sample\n"
     ]
    }
   ],
   "source": [
    "thisIsASample = 'smple sample sample'\n",
    "print(thisIsASample)"
   ]
  },
  {
   "cell_type": "code",
   "execution_count": 3,
   "metadata": {
    "collapsed": false
   },
   "outputs": [
    {
     "name": "stdout",
     "output_type": "stream",
     "text": [
      "smple sample sample\n",
      "0\n",
      "smple sample sample\n",
      "1\n",
      "smple sample sample\n",
      "4\n",
      "smple sample sample\n",
      "9\n",
      "smple sample sample\n",
      "16\n",
      "smple sample sample\n",
      "25\n",
      "smple sample sample\n",
      "36\n",
      "smple sample sample\n",
      "49\n",
      "smple sample sample\n",
      "64\n",
      "smple sample sample\n",
      "81\n",
      "smple sample sample\n",
      "100\n",
      "smple sample sample\n",
      "121\n",
      "smple sample sample\n",
      "144\n",
      "smple sample sample\n",
      "169\n",
      "smple sample sample\n",
      "196\n"
     ]
    }
   ],
   "source": [
    "for i in range(15):\n",
    "    print(thisIsASample)\n",
    "    print(i*i)"
   ]
  }
 ],
 "metadata": {
  "kernelspec": {
   "display_name": "Python 3",
   "language": "python",
   "name": "python3"
  },
  "language_info": {
   "codemirror_mode": {
    "name": "ipython",
    "version": 3
   },
   "file_extension": ".py",
   "mimetype": "text/x-python",
   "name": "python",
   "nbconvert_exporter": "python",
   "pygments_lexer": "ipython3",
   "version": "3.6.0"
  }
 },
 "nbformat": 4,
 "nbformat_minor": 2
}
